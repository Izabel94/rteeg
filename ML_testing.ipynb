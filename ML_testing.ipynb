{
 "cells": [
  {
   "cell_type": "code",
   "execution_count": 1,
   "metadata": {
    "collapsed": true
   },
   "outputs": [],
   "source": [
    "%matplotlib qt"
   ]
  },
  {
   "cell_type": "code",
   "execution_count": 2,
   "metadata": {
    "collapsed": true
   },
   "outputs": [],
   "source": [
    "\"\"\"\n",
    "Collect data in the beginnining of the experiment \n",
    "with a PsychoPy experiment to display\n",
    "the task, and train a machine learning model with\n",
    "the processed data. Apply the model to the data,\n",
    "and see the results. Display the predictions with\n",
    "PyQt4.\n",
    "\"\"\"\n",
    "from mne import Epochs, find_events, set_log_level\n",
    "from mne.time_frequency import psd_multitaper\n",
    "\n",
    "import numpy as np\n",
    "\n",
    "from sklearn.ensemble import RandomForestClassifier\n",
    "from sklearn.decomposition import PCA\n",
    "from sklearn.model_selection import cross_val_score\n",
    "from sklearn.pipeline import Pipeline\n",
    "from sklearn.preprocessing import StandardScaler\n",
    "\n",
    "import rteeg\n",
    "\n",
    "set_log_level('error')"
   ]
  },
  {
   "cell_type": "code",
   "execution_count": 3,
   "metadata": {
    "collapsed": false
   },
   "outputs": [],
   "source": [
    "# Pick channels?\n",
    "\n",
    "def create_X_y(inst):\n",
    "    \"\"\"Return X and y for a machine learning model.\n",
    "    \n",
    "    Parameters\n",
    "    ----------\n",
    "    inst : mne.io.RawArray\n",
    "        Raw EEG data, which must include markers.\n",
    "    \n",
    "    Returns\n",
    "    -------\n",
    "    X : ndarray of shape (n_samples, n_features)\n",
    "        Features for machine learning.\n",
    "    y : ndarray of shape (n_samples,)\n",
    "        Array of classes.\n",
    "    \"\"\"\n",
    "    inst.filter(0.5, 40.)\n",
    "    events = find_events(inst)\n",
    "\n",
    "    epochs = Epochs(inst, events, tmin=0., tmax=10., baseline=None, \n",
    "                    add_eeg_ref=False)\n",
    "    \n",
    "    # Calculate power.\n",
    "    psd, freqs = psd_multitaper(epochs, fmin=0.5, fmax=7.0)\n",
    "\n",
    "    psd = psd.reshape(len(psd), -1)\n",
    "    psd = StandardScaler().fit_transform(psd)\n",
    "    \n",
    "    X = PCA(n_components=15).fit_transform(psd)\n",
    "    y = epochs.events[:,-1]\n",
    "    \n",
    "    if len(X) != len(y):\n",
    "        raise ValueError(\"Number of samples in X not equal to number of \"\n",
    "                         \"samples in y.\")\n",
    "\n",
    "    return X, y\n",
    "\n",
    "    \n",
    "def cross_validate(inst, clf, n_splits, test_size=0.2):\n",
    "    \"\"\"Cross validate to assess a model.\n",
    "    \n",
    "    Parameters\n",
    "    ----------\n",
    "    inst : mne.io.RawArray\n",
    "        Raw EEG data, which must include markers.\n",
    "    \n",
    "    Returns\n",
    "    -------\n",
    "    scores.mean() : float\n",
    "        Mean of the cross-validation scores.\n",
    "    scores.std() : float\n",
    "        Standard deviation of the cross-validation scores.\n",
    "    \"\"\"\n",
    "\n",
    "    X, y = create_X_y(inst)\n",
    "    cv = StratifiedShuffleSplit(n_splits=n_splits, test_size=test_size)\n",
    "    scores = cross_val_score(clf, X=X, y=y, scoring='accuracy', cv=cv)\n",
    "    \n",
    "    return scores.mean(), scores.std()\n",
    "\n",
    "# All of the predictions will go in here.\n",
    "predictions = []\n",
    "def predict(data_duration, clf, event_id, predictions):\n",
    "    \"\"\"Predict on new data.\n",
    "    \n",
    "    Parameters\n",
    "    ----------\n",
    "    data_duration : int, float\n",
    "        Duration of data to use (in seconds). If 5, will predict\n",
    "        on last five seconds of data.\n",
    "    clf : scikit-learn classifier\n",
    "        Must be fitted.\n",
    "    event_id : dict\n",
    "    predictions : list\n",
    "        Nested list of [[y_true, y_pred], [...]].\n",
    "    \n",
    "    Returns\n",
    "    -------\n",
    "    output : str\n",
    "        HTML and CSS to be displayed following each prediction.\n",
    "    \"\"\"\n",
    "    \n",
    "    output_base = \"\"\"\n",
    "    <head>\n",
    "        <style>\n",
    "        table {{font-size: 30px;}}\n",
    "        th, td {{\n",
    "            background-color: white;\n",
    "            text-align: center;\n",
    "            padding: 20px;\n",
    "        }}\n",
    "\n",
    "        </style>\n",
    "    </head>\n",
    "    <body>\n",
    "        <table align=\"center\">\n",
    "            <tr>\n",
    "                <th>Prediction</th>\n",
    "                <th>iteration</th>\n",
    "            </tr>\n",
    "            <tr>\n",
    "                <td style=\"background-color:{color}\"><b>{prediction}</b></td>\n",
    "                <td>{i}</td>\n",
    "            </tr>\n",
    "        </table>\n",
    "    </body>\n",
    "    \"\"\"\n",
    "    X, y = create_X_y(stream.make_raw())\n",
    "    \n",
    "    y_pred = clf.predict(X)[0]\n",
    "    \n",
    "    predictions.append([y, y_pred])\n",
    "    \n",
    "    output = output_base.format(prediction=event_id[y_pred], \n",
    "                                i=len(predictions))\n",
    "    \n",
    "    return output"
   ]
  },
  {
   "cell_type": "code",
   "execution_count": null,
   "metadata": {
    "collapsed": false
   },
   "outputs": [],
   "source": [
    "stream = rteeg.Stream()\n",
    "stream.connect(eeg=True, markers=True, eeg_montage='Enobio32')"
   ]
  },
  {
   "cell_type": "code",
   "execution_count": null,
   "metadata": {
    "collapsed": false
   },
   "outputs": [],
   "source": [
    "find_events(stream.make_raw())"
   ]
  },
  {
   "cell_type": "code",
   "execution_count": null,
   "metadata": {
    "collapsed": false,
    "scrolled": true
   },
   "outputs": [],
   "source": [
    "stream.recording_duration()"
   ]
  },
  {
   "cell_type": "code",
   "execution_count": null,
   "metadata": {
    "collapsed": false
   },
   "outputs": [],
   "source": [
    "clf = RandomForestClassifier()\n",
    "\n",
    "print cross_validate(stream.make_raw(), clf, 10)"
   ]
  },
  {
   "cell_type": "code",
   "execution_count": null,
   "metadata": {
    "collapsed": true
   },
   "outputs": [],
   "source": []
  },
  {
   "cell_type": "code",
   "execution_count": null,
   "metadata": {
    "collapsed": true
   },
   "outputs": [],
   "source": []
  },
  {
   "cell_type": "code",
   "execution_count": null,
   "metadata": {
    "collapsed": true
   },
   "outputs": [],
   "source": []
  },
  {
   "cell_type": "code",
   "execution_count": null,
   "metadata": {
    "collapsed": true
   },
   "outputs": [],
   "source": []
  },
  {
   "cell_type": "code",
   "execution_count": null,
   "metadata": {
    "collapsed": true
   },
   "outputs": [],
   "source": []
  }
 ],
 "metadata": {
  "anaconda-cloud": {},
  "kernelspec": {
   "display_name": "Python [Root]",
   "language": "python",
   "name": "Python [Root]"
  },
  "language_info": {
   "codemirror_mode": {
    "name": "ipython",
    "version": 2
   },
   "file_extension": ".py",
   "mimetype": "text/x-python",
   "name": "python",
   "nbconvert_exporter": "python",
   "pygments_lexer": "ipython2",
   "version": "2.7.12"
  }
 },
 "nbformat": 4,
 "nbformat_minor": 0
}
