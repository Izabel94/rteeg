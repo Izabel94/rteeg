{
 "cells": [
  {
   "cell_type": "markdown",
   "metadata": {},
   "source": [
    "In this notebook, we test the performance of different methods of: adding samples to a growing list; copying lists; and converting those copies to Numpy arrays. The Enobio32 EEG cap transmits data at 500 samples per second, and other caps have higher sampling rates. In order to accomodate high sampling rates, it is imperative to use the fastest method of growing a list of data and of copying that list for analysis using MNE-Python."
   ]
  },
  {
   "cell_type": "code",
   "execution_count": 1,
   "metadata": {
    "collapsed": true
   },
   "outputs": [],
   "source": [
    "import random\n",
    "from copy import deepcopy\n",
    "\n",
    "import numpy as np\n",
    "import pandas as pd"
   ]
  },
  {
   "cell_type": "markdown",
   "metadata": {},
   "source": [
    "# Adding samples of data"
   ]
  },
  {
   "cell_type": "code",
   "execution_count": 7,
   "metadata": {
    "collapsed": false
   },
   "outputs": [],
   "source": [
    "# Setup code\n",
    "\n",
    "N_REPETITIONS = 15000\n",
    "# To accomodate data tranmission at 500 Hz, 15000 samples\n",
    "# represents 30 seconds of data.\n",
    "\n",
    "channels = ['Fp1','Fp2','AF3','AF4','F3','F4','F7','F8','FC5','FC6','T7','T8',\n",
    "'FC1','FC2','C3','C4','CP5','CP6','P7','P8','CP1','CP2','P3','P4','01','02',\n",
    "'PO3','PO4','Oz','Pz','Cz','Fz']\n",
    "\n",
    "a = [[] for _ in channels]\n",
    "b = [round(random.random(), 1) for _ in channels]\n",
    "\n",
    "def add_col((x,y)):\n",
    "    x.append(y)\n",
    "\n",
    "df = pd.DataFrame(index=channels)\n",
    "b_pandas = pd.Series(b, index=df.index)"
   ]
  },
  {
   "cell_type": "markdown",
   "metadata": {},
   "source": [
    "## Adding one sample of data"
   ]
  },
  {
   "cell_type": "markdown",
   "metadata": {},
   "source": [
    "### By column (no need for transposing)"
   ]
  },
  {
   "cell_type": "code",
   "execution_count": 8,
   "metadata": {
    "collapsed": false,
    "scrolled": false
   },
   "outputs": [
    {
     "name": "stdout",
     "output_type": "stream",
     "text": [
      "100000 loops, best of 3: 7.83 µs per loop\n"
     ]
    }
   ],
   "source": [
    "%timeit for x,y in zip(a,b): x.append(y)"
   ]
  },
  {
   "cell_type": "code",
   "execution_count": 9,
   "metadata": {
    "collapsed": false,
    "scrolled": true
   },
   "outputs": [
    {
     "name": "stdout",
     "output_type": "stream",
     "text": [
      "100000 loops, best of 3: 10.9 µs per loop\n"
     ]
    }
   ],
   "source": [
    "%timeit map(add_col, zip(a,b))"
   ]
  },
  {
   "cell_type": "code",
   "execution_count": 10,
   "metadata": {
    "collapsed": false,
    "scrolled": false
   },
   "outputs": [
    {
     "name": "stdout",
     "output_type": "stream",
     "text": [
      "The slowest run took 11.27 times longer than the fastest. This could mean that an intermediate result is being cached.\n",
      "10000 loops, best of 3: 59 µs per loop\n"
     ]
    }
   ],
   "source": [
    "%timeit df[0] = b_pandas"
   ]
  },
  {
   "cell_type": "code",
   "execution_count": 11,
   "metadata": {
    "collapsed": false
   },
   "outputs": [
    {
     "name": "stdout",
     "output_type": "stream",
     "text": [
      "The slowest run took 4.89 times longer than the fastest. This could mean that an intermediate result is being cached.\n",
      "10000 loops, best of 3: 82.7 µs per loop\n"
     ]
    }
   ],
   "source": [
    "%timeit df[0] = b"
   ]
  },
  {
   "cell_type": "markdown",
   "metadata": {},
   "source": [
    "### By row (we would have to transpose later)"
   ]
  },
  {
   "cell_type": "code",
   "execution_count": 12,
   "metadata": {
    "collapsed": false,
    "scrolled": true
   },
   "outputs": [
    {
     "name": "stdout",
     "output_type": "stream",
     "text": [
      "The slowest run took 12.11 times longer than the fastest. This could mean that an intermediate result is being cached.\n",
      "10000000 loops, best of 3: 177 ns per loop\n"
     ]
    }
   ],
   "source": [
    "%timeit channels.append(b)"
   ]
  },
  {
   "cell_type": "markdown",
   "metadata": {},
   "source": [
    "## Adding many samples of data and converting to ndarray"
   ]
  },
  {
   "cell_type": "code",
   "execution_count": 13,
   "metadata": {
    "collapsed": false,
    "scrolled": true
   },
   "outputs": [
    {
     "name": "stdout",
     "output_type": "stream",
     "text": [
      "1 loop, best of 3: 8.67 s per loop\n"
     ]
    }
   ],
   "source": [
    "%%timeit\n",
    "a = [[] for _ in channels]\n",
    "for i in xrange(N_REPETITIONS):\n",
    "    for x,y in zip(a,b): \n",
    "        x.append(y)\n",
    "ndarray = np.array(a)"
   ]
  },
  {
   "cell_type": "code",
   "execution_count": 14,
   "metadata": {
    "collapsed": false
   },
   "outputs": [
    {
     "name": "stdout",
     "output_type": "stream",
     "text": [
      "1 loop, best of 3: 8.41 s per loop\n"
     ]
    }
   ],
   "source": [
    "%%timeit\n",
    "a = [[] for _ in channels]\n",
    "for i in xrange(N_REPETITIONS):\n",
    "    map(add_col, zip(a,b))\n",
    "ndarray = np.array(a)"
   ]
  },
  {
   "cell_type": "code",
   "execution_count": 15,
   "metadata": {
    "collapsed": false,
    "scrolled": true
   },
   "outputs": [
    {
     "name": "stdout",
     "output_type": "stream",
     "text": [
      "1 loop, best of 3: 6.55 s per loop\n"
     ]
    }
   ],
   "source": [
    "%%timeit\n",
    "a = [[] for _ in channels]\n",
    "for i in xrange(N_REPETITIONS):\n",
    "    df[i] = b\n",
    "ndarray = df.values"
   ]
  },
  {
   "cell_type": "code",
   "execution_count": 16,
   "metadata": {
    "collapsed": false
   },
   "outputs": [
    {
     "name": "stdout",
     "output_type": "stream",
     "text": [
      "1 loop, best of 3: 6.18 s per loop\n"
     ]
    }
   ],
   "source": [
    "%%timeit\n",
    "a = [[] for _ in channels]\n",
    "for i in xrange(N_REPETITIONS):\n",
    "    df[i] = b_pandas\n",
    "ndarray = df.values"
   ]
  },
  {
   "cell_type": "code",
   "execution_count": 17,
   "metadata": {
    "collapsed": false
   },
   "outputs": [
    {
     "name": "stdout",
     "output_type": "stream",
     "text": [
      "100 loops, best of 3: 15 ms per loop\n"
     ]
    }
   ],
   "source": [
    "%%timeit\n",
    "a = []\n",
    "for i in xrange(N_REPETITIONS): \n",
    "    a.append(b)\n",
    "ndarray = np.array(a).T"
   ]
  },
  {
   "cell_type": "markdown",
   "metadata": {},
   "source": [
    "# Copying nested list and converting to ndarray"
   ]
  },
  {
   "cell_type": "code",
   "execution_count": 2,
   "metadata": {
    "collapsed": false
   },
   "outputs": [],
   "source": [
    "# Setup code (similar to setup code above)\n",
    "\n",
    "N_REPETITIONS = 100000\n",
    "# To accomodate data tranmission at 500 Hz, 100000 samples\n",
    "# represents 200 seconds of data.\n",
    "\n",
    "channels = ['Fp1','Fp2','AF3','AF4','F3','F4','F7','F8','FC5','FC6','T7','T8',\n",
    "'FC1','FC2','C3','C4','CP5','CP6','P7','P8','CP1','CP2','P3','P4','01','02',\n",
    "'PO3','PO4','Oz','Pz','Cz','Fz']\n",
    "\n",
    "fake_eeg_data = []\n",
    "fake_sample = [round(random.random(), 1) for _ in channels]\n",
    "\n",
    "# Generate fake EEG data that resembles the structure of the real data\n",
    "# We will copy this data and convert it to type ndarray.\n",
    "for i in xrange(N_REPETITIONS):\n",
    "    fake_eeg_data.append(fake_sample)"
   ]
  },
  {
   "cell_type": "code",
   "execution_count": 3,
   "metadata": {
    "collapsed": false,
    "scrolled": true
   },
   "outputs": [
    {
     "name": "stdout",
     "output_type": "stream",
     "text": [
      "10 loops, best of 3: 158 ms per loop\n"
     ]
    }
   ],
   "source": [
    "%%timeit\n",
    "# copy.deepcopy() method\n",
    "copy = deepcopy(fake_eeg_data)\n",
    "ndarray = np.array(copy).T"
   ]
  },
  {
   "cell_type": "code",
   "execution_count": 4,
   "metadata": {
    "collapsed": false
   },
   "outputs": [
    {
     "name": "stdout",
     "output_type": "stream",
     "text": [
      "10 loops, best of 3: 165 ms per loop\n"
     ]
    }
   ],
   "source": [
    "%%timeit\n",
    "# Preallocate numpy array and copy list into that array\n",
    "ndarray = np.zeros(shape=(len(fake_eeg_data), len(channels)))\n",
    "for i, row  in enumerate(fake_eeg_data):\n",
    "    ndarray[i] = row[:]\n",
    "ndarray = ndarray.T"
   ]
  },
  {
   "cell_type": "code",
   "execution_count": 5,
   "metadata": {
    "collapsed": false
   },
   "outputs": [
    {
     "name": "stdout",
     "output_type": "stream",
     "text": [
      "1 loop, best of 3: 440 ms per loop\n"
     ]
    }
   ],
   "source": [
    "%%timeit\n",
    "# Nested list comprehension\n",
    "copy = [[item for item in row] for row in fake_eeg_data]\n",
    "ndarray = np.array(copy).T"
   ]
  },
  {
   "cell_type": "code",
   "execution_count": 6,
   "metadata": {
    "collapsed": false
   },
   "outputs": [
    {
     "name": "stdout",
     "output_type": "stream",
     "text": [
      "10 loops, best of 3: 131 ms per loop\n"
     ]
    }
   ],
   "source": [
    "%%timeit\n",
    "# List comprehension and slicing\n",
    "copy = [row[:] for row in fake_eeg_data]\n",
    "ndarray = np.array(copy).T"
   ]
  }
 ],
 "metadata": {
  "anaconda-cloud": {},
  "kernelspec": {
   "display_name": "Python [Root]",
   "language": "python",
   "name": "Python [Root]"
  },
  "language_info": {
   "codemirror_mode": {
    "name": "ipython",
    "version": 2
   },
   "file_extension": ".py",
   "mimetype": "text/x-python",
   "name": "python",
   "nbconvert_exporter": "python",
   "pygments_lexer": "ipython2",
   "version": "2.7.12"
  }
 },
 "nbformat": 4,
 "nbformat_minor": 0
}
